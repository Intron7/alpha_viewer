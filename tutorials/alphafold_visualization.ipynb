{
 "cells": [
  {
   "cell_type": "markdown",
   "id": "199da9d1",
   "metadata": {},
   "source": [
    "# Alphafold Visualizer \n",
    "**Author:** [Severin Dicks](https://github.com/Intron7) (IBSM Freiburg)"
   ]
  },
  {
   "cell_type": "markdown",
   "id": "537e1ce9",
   "metadata": {},
   "source": [
    "This notebook is a quick overview of the `alpha_viewer` functionallity.  "
   ]
  },
  {
   "cell_type": "markdown",
   "id": "2d1f45da-658c-4068-93b7-8fb844f536f0",
   "metadata": {},
   "source": [
    "First you need to import the alpha_viewer class and create the object with the output folder of your alphafold prediction."
   ]
  },
  {
   "cell_type": "code",
   "execution_count": 2,
   "id": "5912cdfd-7f07-4c1f-883f-39cf8a98dab6",
   "metadata": {},
   "outputs": [],
   "source": [
    "from alpha_viewer import alpha_viewer"
   ]
  },
  {
   "attachments": {},
   "cell_type": "markdown",
   "id": "091a80ad",
   "metadata": {},
   "source": [
    "If you want to view a specific model, you can now add the full name to the viewer class. You can also choose if you want the relaxed or unrelaxed pdb file."
   ]
  },
  {
   "cell_type": "code",
   "execution_count": null,
   "id": "4c57b9b3-c7c5-4f48-adda-41eb38b1492b",
   "metadata": {},
   "outputs": [],
   "source": [
    "viewer = alpha_viewer(\"PATH_TO_YOUR_ALPHAFOLD_OUTPUT_FOLDER\", model = None, use_relaxed=True)"
   ]
  },
  {
   "cell_type": "markdown",
   "id": "b9c0051d",
   "metadata": {},
   "source": [
    "You can use `.plot_pLDDT()` and `.plot_pae()`"
   ]
  },
  {
   "cell_type": "code",
   "execution_count": null,
   "id": "bc87fd35-2e32-4d4b-9db5-eb6a24587ef8",
   "metadata": {
    "tags": []
   },
   "outputs": [],
   "source": [
    "viewer.plot_pLDDT(save=True)"
   ]
  },
  {
   "cell_type": "code",
   "execution_count": null,
   "id": "f03bc991-b2c2-42c2-b35d-267b1eca4693",
   "metadata": {},
   "outputs": [],
   "source": [
    "viewer.plot_pae(save=True)"
   ]
  },
  {
   "cell_type": "markdown",
   "id": "45d7d443-f865-425f-b8c4-860e7976c7c8",
   "metadata": {},
   "source": [
    "To view the model colored by pLDDT use `.show_confidence()`"
   ]
  },
  {
   "cell_type": "code",
   "execution_count": null,
   "id": "54bfb556-b02a-428e-a2f0-406db5fb7cc2",
   "metadata": {},
   "outputs": [],
   "source": [
    "viewer.show_confidence(style=\"cartoon\")"
   ]
  },
  {
   "cell_type": "markdown",
   "id": "4cde1de6-d7ba-4b3f-b56d-66d7cdbdb874",
   "metadata": {},
   "source": [
    "If you used the multimer model you can now color each chain seperatly"
   ]
  },
  {
   "cell_type": "code",
   "execution_count": null,
   "id": "978402d3-18fe-4873-b9e3-64653d39d9d4",
   "metadata": {},
   "outputs": [],
   "source": [
    "viewer.show_annotation(annotation_key = \"chain\")"
   ]
  },
  {
   "cell_type": "markdown",
   "id": "573b94fe-2e80-4237-8c96-3952ce1589ae",
   "metadata": {},
   "source": [
    "To make it easy to use a custom coloring you can define a column in the `.obs` dataframe and use `.show_annotation()`"
   ]
  },
  {
   "cell_type": "code",
   "execution_count": null,
   "id": "00e1471a-f2df-4f78-8f31-97d435e3331d",
   "metadata": {},
   "outputs": [],
   "source": [
    "viewer.obs"
   ]
  },
  {
   "cell_type": "code",
   "execution_count": null,
   "id": "5a506217-a090-4985-8b55-2966d39ed6c8",
   "metadata": {},
   "outputs": [],
   "source": [
    "viewer.obs.loc[0:488,\"subprotein\"] = \"Protein\"\n",
    "viewer.obs.loc[489:496,\"subprotein\"] = \"Linker\"\n",
    "viewer.obs.loc[497:734,\"subprotein\"] = \"GFP\""
   ]
  },
  {
   "cell_type": "code",
   "execution_count": null,
   "id": "f48cf21c-c0cc-4298-82b8-d208852f1a7f",
   "metadata": {},
   "outputs": [],
   "source": [
    "viewer.show_annotation(annotation_key= \"subprotein\")"
   ]
  },
  {
   "attachments": {},
   "cell_type": "markdown",
   "id": "cd4d31a0",
   "metadata": {},
   "source": [
    "To view a substructure you can use `.show_substructure()`. This can be almost anything in `.obs`. It works for mono and multimere models. The categoires dont have to be connected."
   ]
  },
  {
   "cell_type": "code",
   "execution_count": null,
   "id": "1f520d74-b133-4513-a3b9-806b168cbbb8",
   "metadata": {},
   "outputs": [],
   "source": [
    "viewer.show_substructure(style=\"cartoon\",\n",
    "                         split_key=\"subprotein\",\n",
    "                         use_cat=[\"Protein\",\"GFP\"],\n",
    "                         annotation_key=\"pLDDT\")"
   ]
  },
  {
   "attachments": {},
   "cell_type": "markdown",
   "id": "cb6d40d1",
   "metadata": {},
   "source": [
    "Even this works...."
   ]
  },
  {
   "cell_type": "code",
   "execution_count": null,
   "id": "9f822e23",
   "metadata": {},
   "outputs": [],
   "source": [
    "viewer.show_substructure(style=\"cartoon\",\n",
    "                         split_key=\"AA\",\n",
    "                         use_cat=\"Y\",\n",
    "                         annotation_key=\"subprotein\")"
   ]
  }
 ],
 "metadata": {
  "kernelspec": {
   "display_name": "Python 3",
   "language": "python",
   "name": "python3"
  },
  "language_info": {
   "codemirror_mode": {
    "name": "ipython",
    "version": 3
   },
   "file_extension": ".py",
   "mimetype": "text/x-python",
   "name": "python",
   "nbconvert_exporter": "python",
   "pygments_lexer": "ipython3",
   "version": "3.8.6"
  },
  "vscode": {
   "interpreter": {
    "hash": "e1ea7f09e601b97de51ed4de5967b59d03bdec52b94629a7804d02ac9f15403a"
   }
  }
 },
 "nbformat": 4,
 "nbformat_minor": 5
}
